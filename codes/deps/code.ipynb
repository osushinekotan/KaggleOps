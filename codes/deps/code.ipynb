{
 "cells": [
  {
   "cell_type": "markdown",
   "metadata": {},
   "source": [
    "```bash\n",
    "!pip download -d /kaggle/working \\\n",
    "    ${PACKAGE_NAME_AND_VERSION}\n",
    "\n",
    "\n",
    "!pip install /kaggle/working/*.whl \\\n",
    "    --force-reinstall \\\n",
    "    --root-user-action ignore \\\n",
    "    --no-deps \\\n",
    "    --no-index \\\n",
    "    --find-links /kaggle/working\n",
    "\n",
    "!ls\n",
    "```\n"
   ]
  }
 ],
 "metadata": {
  "kernelspec": {
   "display_name": ".venv",
   "language": "python",
   "name": "python3"
  },
  "language_info": {
   "name": "python",
   "version": "3.11.9"
  }
 },
 "nbformat": 4,
 "nbformat_minor": 2
}
