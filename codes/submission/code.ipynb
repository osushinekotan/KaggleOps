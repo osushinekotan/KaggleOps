{
 "cells": [
  {
   "cell_type": "code",
   "execution_count": null,
   "id": "126b9a41",
   "metadata": {},
   "outputs": [],
   "source": [
    "!pip install /kaggle/input/spaceship-titanic-deps/*.whl --force-reinstall --root-user-action ignore --no-deps --no-index --find-links /kaggle/input/spaceship-titanic-deps"
   ]
  },
  {
   "cell_type": "code",
   "execution_count": null,
   "id": "c53e0c82",
   "metadata": {},
   "outputs": [],
   "source": [
    "!PYTHONPATH=/kaggle/input/spaceship-titanic-codes KAGGLE_COMPETITION_NAME=spaceship-titanic python /kaggle/input/spaceship-titanic-codes/src/inference.py"
   ]
  }
 ],
 "metadata": {
  "kernelspec": {
   "display_name": "Python 3",
   "language": "python",
   "name": "python3"
  }
 },
 "nbformat": 4,
 "nbformat_minor": 5
}
