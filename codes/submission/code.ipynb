{
 "cells": [
  {
   "cell_type": "markdown",
   "metadata": {},
   "source": [
    "1. download extra dependencies\n",
    "\n",
    "   ```bash\n",
    "   !pip install /kaggle/input/${DEPS_CODE_NAME}/*.whl \\\n",
    "       --force-reinstall \\\n",
    "       --root-user-action ignore \\\n",
    "       --no-index \\\n",
    "       --find-links /kaggle/input/${DEPS_CODE_NAME}\n",
    "   ```\n",
    "\n",
    "2. run inference code\n",
    "\n",
    "   ```bash\n",
    "   !PYTHONPATH=/kaggle/input/${PYTHONPATH} \\\n",
    "        python /kaggle/input/${EXEC_FILE_PATH}\n",
    "   ```\n"
   ]
  }
 ],
 "metadata": {
  "kernelspec": {
   "display_name": ".venv",
   "language": "python",
   "name": "python3"
  },
  "language_info": {
   "codemirror_mode": {
    "name": "ipython",
    "version": 3
   },
   "file_extension": ".py",
   "mimetype": "text/x-python",
   "name": "python",
   "nbconvert_exporter": "python",
   "pygments_lexer": "ipython3",
   "version": "3.11.9"
  }
 },
 "nbformat": 4,
 "nbformat_minor": 2
}
